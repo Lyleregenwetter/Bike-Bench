{
 "cells": [
  {
   "cell_type": "code",
   "execution_count": 1,
   "id": "66adf077",
   "metadata": {},
   "outputs": [],
   "source": [
    "from bikebench.data_loading.data_loading import *"
   ]
  },
  {
   "cell_type": "markdown",
   "id": "99c3271c",
   "metadata": {},
   "source": [
    "The core bike-bench functionality depends on 5 predictive modeling datasets (aero, structure, validity, usability, clip) split into train and test sets and separated by features and labels for 20 files total. Additionally bike-bench relies on one generative modeling dataset split into train and test sets. For convenience, continous (bike_bench) and mixed-modality (bike_bench_mixed_modality) representations are provided directly for a total of 4 files. Files are automatically downloaded upon first use from Harvard Dataverse. The following code can be used to download and validate all datasets. "
   ]
  },
  {
   "cell_type": "code",
   "execution_count": 2,
   "id": "f721280b",
   "metadata": {},
   "outputs": [
    {
     "name": "stdout",
     "output_type": "stream",
     "text": [
      "▶ Testing Dataset Loaders\n",
      "⏳ Testing aero_train...\n",
      "✅ aero_train: X shape = (3200, 11), Y shape = (3200, 1)\n",
      "⏳ Testing aero_test...\n",
      "✅ aero_test: X shape = (800, 11), Y shape = (800, 1)\n",
      "⏳ Testing structure_train...\n",
      "✅ structure_train: X shape = (11880, 37), Y shape = (11880, 6)\n",
      "⏳ Testing structure_test...\n",
      "✅ structure_test: X shape = (2971, 37), Y shape = (2971, 6)\n",
      "⏳ Testing validity_train...\n",
      "✅ validity_train: X shape = (12077, 37), Y shape = (12077, 1)\n",
      "⏳ Testing validity_test...\n",
      "✅ validity_test: X shape = (3020, 37), Y shape = (3020, 1)\n",
      "⏳ Testing usability_cont_train...\n",
      "✅ usability_cont_train: X shape = (160, 3), Y shape = (160, 1)\n",
      "⏳ Testing usability_cont_test...\n",
      "✅ usability_cont_test: X shape = (40, 3), Y shape = (40, 1)\n",
      "⏳ Testing aesthetics_train...\n",
      "✅ aesthetics_train: X shape = (1638399, 87), Y shape = (1638399, 512)\n",
      "⏳ Testing aesthetics_test...\n",
      "✅ aesthetics_test: X shape = (3807, 87), Y shape = (3807, 512)\n",
      "⏳ Testing bike_bench_train...\n",
      "✅ bike_bench_train: DataFrame shape = (3045, 87)\n",
      "⏳ Testing bike_bench_test...\n",
      "✅ bike_bench_test: DataFrame shape = (762, 87)\n",
      "⏳ Testing bike_bench_mixed_modality_train...\n",
      "✅ bike_bench_mixed_modality_train: DataFrame shape = (3045, 67)\n",
      "⏳ Testing bike_bench_mixed_modality_test...\n",
      "✅ bike_bench_mixed_modality_test: DataFrame shape = (762, 67)\n"
     ]
    }
   ],
   "source": [
    "def test_all_dataloaders_direct():\n",
    "    print(\"▶ Testing Dataset Loaders\")\n",
    "\n",
    "    loaders = [\n",
    "        (\"aero_train\", load_aero_train),\n",
    "        (\"aero_test\", load_aero_test),\n",
    "        (\"structure_train\", load_structure_train),\n",
    "        (\"structure_test\", load_structure_test),\n",
    "        (\"validity_train\", load_validity_train),\n",
    "        (\"validity_test\", load_validity_test),\n",
    "        (\"usability_cont_train\", load_usability_cont_train),\n",
    "        (\"usability_cont_test\", load_usability_cont_test),\n",
    "        (\"aesthetics_train\", load_aesthetics_train),\n",
    "        (\"aesthetics_test\", load_aesthetics_test),\n",
    "        (\"bike_bench_train\", load_bike_bench_train),\n",
    "        (\"bike_bench_test\", load_bike_bench_test),\n",
    "        (\"bike_bench_mixed_modality_train\", load_bike_bench_mixed_modality_train),\n",
    "        (\"bike_bench_mixed_modality_test\", load_bike_bench_mixed_modality_test),\n",
    "    ]\n",
    "\n",
    "    for name, func in loaders:\n",
    "        print(f\"⏳ Testing {name}...\")\n",
    "        try:\n",
    "            result = func()\n",
    "            if isinstance(result, tuple):\n",
    "                X, Y = result\n",
    "                print(f\"✅ {name}: X shape = {X.shape}, Y shape = {Y.shape}\")\n",
    "            else:\n",
    "                print(f\"✅ {name}: DataFrame shape = {result.shape}\")\n",
    "        except Exception as e:\n",
    "            print(f\"❌ {name}: {e}\")\n",
    "\n",
    "test_all_dataloaders_direct()\n"
   ]
  },
  {
   "cell_type": "code",
   "execution_count": null,
   "id": "e7dc78b5",
   "metadata": {},
   "outputs": [],
   "source": []
  }
 ],
 "metadata": {
  "kernelspec": {
   "display_name": "bike-bench-cuda",
   "language": "python",
   "name": "python3"
  },
  "language_info": {
   "codemirror_mode": {
    "name": "ipython",
    "version": 3
   },
   "file_extension": ".py",
   "mimetype": "text/x-python",
   "name": "python",
   "nbconvert_exporter": "python",
   "pygments_lexer": "ipython3",
   "version": "3.10.18"
  }
 },
 "nbformat": 4,
 "nbformat_minor": 5
}
