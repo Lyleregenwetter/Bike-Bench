{
 "cells": [
  {
   "cell_type": "code",
   "execution_count": 1,
   "id": "451b5622",
   "metadata": {},
   "outputs": [],
   "source": [
    "import torch\n",
    "import torch.nn as nn\n",
    "from tqdm import trange\n",
    "\n",
    "from bikebench.data_loading import data_loading\n",
    "from bikebench.resource_utils import models_and_scalers_path\n",
    "from bikebench.prediction.prediction_utils import TorchStandardScaler, Preprocessor\n",
    "from bikebench.prediction.usability_predictor import get_usability_model\n",
    "device = torch.device(\"cuda\" if torch.cuda.is_available() else \"cpu\")"
   ]
  },
  {
   "cell_type": "code",
   "execution_count": 2,
   "id": "02b9e93f",
   "metadata": {},
   "outputs": [
    {
     "name": "stderr",
     "output_type": "stream",
     "text": [
      "Downloading usability_cont_X_train.csv: 100%|██████████| 4.41k/4.41k [00:00<00:00, 12.0MB/s]\n",
      "Downloading usability_cont_Y_train.tab: 100%|██████████| 3.61k/3.61k [00:00<00:00, 21.2MB/s]\n"
     ]
    }
   ],
   "source": [
    "X_tv, Y_tv = data_loading.load_usability_cont_train()\n",
    "X_tv_tens = torch.tensor(X_tv.values, dtype=torch.float32, device=device)\n",
    "Y_tv_tens = torch.tensor(Y_tv.values, dtype=torch.float32, device=device)"
   ]
  },
  {
   "cell_type": "code",
   "execution_count": 3,
   "id": "ab30e5cb",
   "metadata": {},
   "outputs": [
    {
     "name": "stderr",
     "output_type": "stream",
     "text": [
      "/tmp/ipykernel_132736/2204159992.py:8: UserWarning: To copy construct from a tensor, it is recommended to use sourceTensor.detach().clone() or sourceTensor.detach().clone().requires_grad_(True), rather than torch.tensor(sourceTensor).\n",
      "  X_tv_tens = torch.tensor(scaler.transform(X_tv_tens), dtype=torch.float32, device=device)\n"
     ]
    }
   ],
   "source": [
    "scaler = TorchStandardScaler().to(device)\n",
    "scaler.fit(X_tv_tens)\n",
    "\n",
    "\n",
    "scaler_path = models_and_scalers_path(\"usability_scaler.pt\")\n",
    "torch.save(scaler, scaler_path)\n",
    "\n",
    "X_tv_tens = torch.tensor(scaler.transform(X_tv_tens), dtype=torch.float32, device=device)"
   ]
  },
  {
   "cell_type": "markdown",
   "id": "de4420d6",
   "metadata": {},
   "source": [
    "For this prediction task, model and training setting were tuned using optimization in a different notebook. Therefore, cross-validation is not used here. Training/model settings are hard-coded here for simplicity.\n"
   ]
  },
  {
   "cell_type": "code",
   "execution_count": 4,
   "id": "3bb2a5aa",
   "metadata": {},
   "outputs": [],
   "source": [
    "X_train = X_tv_tens\n",
    "Y_train = Y_tv_tens"
   ]
  },
  {
   "cell_type": "code",
   "execution_count": 5,
   "id": "50078baa",
   "metadata": {},
   "outputs": [
    {
     "name": "stderr",
     "output_type": "stream",
     "text": [
      "Training: 100%|██████████| 150/150 [00:08<00:00, 16.77it/s, loss=0.0125, best_loss=0.0023]\n"
     ]
    }
   ],
   "source": [
    "model = get_usability_model(dropout_on = True).to(device)\n",
    "\n",
    "criterion = nn.MSELoss()\n",
    "optimizer = torch.optim.Adam(model.parameters(), lr=0.002723)\n",
    "\n",
    "# Training loop\n",
    "num_epochs = 150\n",
    "batch_size = 4\n",
    "best_loss = float('inf')\n",
    "best_model = None\n",
    "\n",
    "bar = trange(num_epochs, desc=\"Training\")\n",
    "for epoch in bar:\n",
    "    model.train()\n",
    "    permutation = torch.randperm(X_train.size(0))\n",
    "    for i in range(0, X_train.size(0), batch_size):\n",
    "        indices = permutation[i : i + batch_size]\n",
    "        batch_x, batch_y = X_train[indices], Y_train[indices]\n",
    "\n",
    "        optimizer.zero_grad()\n",
    "        outputs = model(batch_x)\n",
    "        loss = criterion(outputs, batch_y)\n",
    "        loss.backward()\n",
    "        optimizer.step()\n",
    "\n",
    "    model.eval()\n",
    "\n",
    "    if loss.item() < best_loss:\n",
    "        best_loss = loss.item()\n",
    "\n",
    "    bar.set_postfix({\n",
    "        'loss': f'{loss.item():.4f}',\n",
    "        'best_loss': f'{best_loss:.4f}'\n",
    "    })\n",
    "\n",
    "best_model = model\n"
   ]
  },
  {
   "cell_type": "code",
   "execution_count": null,
   "id": "b359e371",
   "metadata": {},
   "outputs": [],
   "source": [
    "save_path = models_and_scalers_path(\"usability_model_weights.pt\")\n",
    "# torch.save(model.state_dict(), save_path, )"
   ]
  },
  {
   "cell_type": "code",
   "execution_count": 7,
   "id": "77130fc6",
   "metadata": {},
   "outputs": [
    {
     "data": {
      "text/plain": [
       "<All keys matched successfully>"
      ]
     },
     "execution_count": 7,
     "metadata": {},
     "output_type": "execute_result"
    }
   ],
   "source": [
    "state  = torch.load(save_path, weights_only=True)\n",
    "\n",
    "model = get_usability_model(dropout_on = False).to(device)\n",
    "model.load_state_dict(state)"
   ]
  },
  {
   "cell_type": "code",
   "execution_count": 8,
   "id": "9030cb21",
   "metadata": {},
   "outputs": [
    {
     "name": "stderr",
     "output_type": "stream",
     "text": [
      "Downloading usability_cont_X_test.csv: 100%|██████████| 1.13k/1.13k [00:00<00:00, 5.97MB/s]\n",
      "Downloading usability_cont_Y_test.tab: 100%|██████████| 950/950 [00:00<00:00, 5.40MB/s]\n"
     ]
    },
    {
     "data": {
      "text/plain": [
       "0.3917580246925354"
      ]
     },
     "execution_count": 8,
     "metadata": {},
     "output_type": "execute_result"
    }
   ],
   "source": [
    "from bikebench.prediction import evaluators\n",
    "\n",
    "evaluators.evaluate_usability(model, Preprocessor(scaler_path=scaler_path, preprocess_fn=None, device=device), device=device, target_type='cont')"
   ]
  },
  {
   "cell_type": "code",
   "execution_count": null,
   "id": "af5bcaa5",
   "metadata": {},
   "outputs": [],
   "source": []
  }
 ],
 "metadata": {
  "kernelspec": {
   "display_name": "bike-bench-cuda",
   "language": "python",
   "name": "python3"
  },
  "language_info": {
   "codemirror_mode": {
    "name": "ipython",
    "version": 3
   },
   "file_extension": ".py",
   "mimetype": "text/x-python",
   "name": "python",
   "nbconvert_exporter": "python",
   "pygments_lexer": "ipython3",
   "version": "3.10.18"
  }
 },
 "nbformat": 4,
 "nbformat_minor": 5
}
