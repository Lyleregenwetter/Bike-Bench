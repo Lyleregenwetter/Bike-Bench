{
 "cells": [
  {
   "cell_type": "markdown",
   "id": "171a4431",
   "metadata": {},
   "source": [
    "Included for reproducibility. Converts synthetic data into aesthetics regression datasets."
   ]
  },
  {
   "cell_type": "code",
   "execution_count": 2,
   "id": "9dec8697",
   "metadata": {},
   "outputs": [],
   "source": [
    "from bikebench.resource_utils import datasets_path"
   ]
  },
  {
   "cell_type": "code",
   "execution_count": 3,
   "id": "0de6fe21",
   "metadata": {},
   "outputs": [],
   "source": [
    "CTGAN_dir = datasets_path(\"Synthetic_Extended_Data/CTGAN\")\n",
    "uniform_dir = datasets_path(\"Synthetic_Extended_Data/uniform\")\n"
   ]
  },
  {
   "cell_type": "code",
   "execution_count": 9,
   "id": "f0d28fdc",
   "metadata": {},
   "outputs": [
    {
     "name": "stderr",
     "output_type": "stream",
     "text": [
      "100%|██████████| 200/200 [00:34<00:00,  5.80it/s]\n",
      "100%|██████████| 200/200 [00:34<00:00,  5.82it/s]\n"
     ]
    }
   ],
   "source": [
    "#loop over each directory/designs and load 1-200.csv\n",
    "import pandas as pd\n",
    "from tqdm import tqdm\n",
    "\n",
    "designs = []\n",
    "embeddings = []\n",
    "for dir in [CTGAN_dir, uniform_dir]:\n",
    "    for design in tqdm(range(0, 200)):\n",
    "        try:\n",
    "            file_path = f\"{dir}/designs/{design}.csv\"\n",
    "            des_df = pd.read_csv(file_path, index_col=0)\n",
    "            assert des_df.shape == (4096, 83) \n",
    "\n",
    "            file_path = f\"{dir}/embeddings/{design}.csv\"\n",
    "            emb_df = pd.read_csv(file_path, index_col=0)\n",
    "\n",
    "            designs.append(des_df)\n",
    "            embeddings.append(emb_df)\n",
    "        except Exception as e:\n",
    "            print(f\"Error loading design {design} in {dir}: {e}\")\n",
    "designs_df = pd.concat(designs, ignore_index=False)\n",
    "embeddings_df = pd.concat(embeddings, ignore_index=False)\n"
   ]
  },
  {
   "cell_type": "code",
   "execution_count": 10,
   "id": "33aeca55",
   "metadata": {},
   "outputs": [
    {
     "name": "stdout",
     "output_type": "stream",
     "text": [
      "(1638400, 83) (1638399, 512)\n"
     ]
    }
   ],
   "source": [
    "print(designs_df.shape, embeddings_df.shape)"
   ]
  },
  {
   "cell_type": "markdown",
   "id": "d3d5399f",
   "metadata": {},
   "source": [
    "In rare cases, the rendering process can fail. This seems to have happened for one design in the 1.6M. We will drop it. "
   ]
  },
  {
   "cell_type": "code",
   "execution_count": 11,
   "id": "446f222d",
   "metadata": {},
   "outputs": [],
   "source": [
    "#drop any indexes that are in embeddings but not in designs and vice versa\n",
    "common_indexes = designs_df.index.intersection(embeddings_df.index)\n",
    "designs_df = designs_df.loc[common_indexes]\n",
    "embeddings_df = embeddings_df.loc[common_indexes]"
   ]
  },
  {
   "cell_type": "code",
   "execution_count": 12,
   "id": "830fc4ef",
   "metadata": {},
   "outputs": [
    {
     "name": "stdout",
     "output_type": "stream",
     "text": [
      "(1638399, 83) (1638399, 512)\n"
     ]
    }
   ],
   "source": [
    "print(designs_df.shape, embeddings_df.shape)"
   ]
  },
  {
   "cell_type": "markdown",
   "id": "91e172e7",
   "metadata": {},
   "source": [
    "Save as csvs (additionally save a float16 numpy version for convenience)"
   ]
  },
  {
   "cell_type": "code",
   "execution_count": 13,
   "id": "21c8ee33",
   "metadata": {},
   "outputs": [],
   "source": [
    "import numpy as np\n",
    "designs_df.to_csv(datasets_path(\"Predictive_Modeling_Datasets/aesthetics_X_train.csv\"))\n",
    "# embeddings_np = embeddings_df.to_numpy().astype(np.float16)\n",
    "# np.save(datasets_path(\"Predictive_Modeling_Datasets/aesthetics_Y_train.npy\"), embeddings_np)\n",
    "# embeddings_df.to_csv(datasets_path(\"Predictive_Modeling_Datasets/aesthetics_Y_train.csv\"))\n"
   ]
  },
  {
   "cell_type": "code",
   "execution_count": null,
   "id": "b4124ea8",
   "metadata": {},
   "outputs": [],
   "source": []
  }
 ],
 "metadata": {
  "kernelspec": {
   "display_name": "bike-bench-cuda",
   "language": "python",
   "name": "python3"
  },
  "language_info": {
   "codemirror_mode": {
    "name": "ipython",
    "version": 3
   },
   "file_extension": ".py",
   "mimetype": "text/x-python",
   "name": "python",
   "nbconvert_exporter": "python",
   "pygments_lexer": "ipython3",
   "version": "3.10.18"
  }
 },
 "nbformat": 4,
 "nbformat_minor": 5
}
