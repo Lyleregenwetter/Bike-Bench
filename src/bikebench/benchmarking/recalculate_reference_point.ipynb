{
 "cells": [
  {
   "cell_type": "code",
   "execution_count": 1,
   "id": "d9d5053b",
   "metadata": {},
   "outputs": [
    {
     "name": "stderr",
     "output_type": "stream",
     "text": [
      "/home/mileva/mambaforge/envs/bike-bench-cuda/lib/python3.10/site-packages/tqdm/auto.py:21: TqdmWarning: IProgress not found. Please update jupyter and ipywidgets. See https://ipywidgets.readthedocs.io/en/stable/user_install.html\n",
      "  from .autonotebook import tqdm as notebook_tqdm\n"
     ]
    }
   ],
   "source": [
    "import torch\n",
    "import pandas as pd\n",
    "import numpy as np\n",
    "from bikebench.conditioning import conditioning\n",
    "from bikebench.design_evaluation.design_evaluation import *\n",
    "from bikebench.data_loading import data_loading\n",
    "from bikebench.resource_utils import resource_path\n"
   ]
  },
  {
   "cell_type": "markdown",
   "id": "8a943dea",
   "metadata": {},
   "source": [
    "This notebook resets the reference point calculation. This will cause the benchmarking scores to longer be in sync. "
   ]
  },
  {
   "cell_type": "code",
   "execution_count": 2,
   "id": "892c4bd2",
   "metadata": {},
   "outputs": [],
   "source": [
    "def compute_ref_point(ref_scores, reduction, margin=0.05):\n",
    "    ref_scores[np.isnan(ref_scores)] = -float(\"inf\")\n",
    "    if reduction == \"max\":\n",
    "        ref_point = np.max(ref_scores, axis=0)\n",
    "    elif reduction == \"meanabs\":\n",
    "        ref_point = np.mean(np.abs(ref_scores), axis=0)\n",
    "    else:\n",
    "        raise ValueError(f\"Unknown reduction: {reduction}\")\n",
    "\n",
    "    # add a small margin (5% of span) so ref is strictly worse than all points\n",
    "    span = np.max(ref_scores, axis=0) - np.min(ref_scores, axis=0)\n",
    "    ref_point = ref_point + margin * np.abs(span)\n",
    "\n",
    "    return ref_point\n",
    "\n",
    "\n",
    "def recompute_ref_point(evaluator, eval_names, path, reduction, device):\n",
    "    print(\"Calculating reference point for scoring functions...\")\n",
    "    data = data_loading.load_bike_bench_test()\n",
    "    num_data = data.shape[0]\n",
    "    rider_condition = conditioning.sample_riders(num_data, split=\"test\")\n",
    "    use_case_condition = conditioning.sample_use_case(num_data, split=\"test\")\n",
    "    embedding = conditioning.sample_embedding(num_data, split=\"test\")\n",
    "    text_condition = conditioning.sample_text(num_data, split=\"test\")\n",
    "\n",
    "    condition = {\"Rider\": rider_condition, \"Use Case\": use_case_condition, \"Text\": text_condition, \"Embedding\": embedding}\n",
    "    scores = evaluator(torch.tensor(data.values, dtype=torch.float32, device=device), condition)\n",
    "    objective_scores = scores.detach().cpu().numpy()\n",
    "    ref_point = compute_ref_point(objective_scores, reduction)\n",
    "    df = pd.Series(ref_point, index=eval_names)\n",
    "    df.to_csv(path, header=False)\n",
    "    return df"
   ]
  },
  {
   "cell_type": "code",
   "execution_count": 3,
   "id": "9720e0f0",
   "metadata": {},
   "outputs": [
    {
     "name": "stdout",
     "output_type": "stream",
     "text": [
      "Calculating reference point for scoring functions...\n"
     ]
    },
    {
     "data": {
      "text/plain": [
       "Usability Score                                          1.005924e+00\n",
       "Drag Force (N)                                           2.786199e+01\n",
       "Knee Angle Error (deg.)                                  1.277838e+02\n",
       "Hip Angle Error (deg.)                                   4.741717e+01\n",
       "Arm Angle Error (deg.)                                   5.418302e+01\n",
       "Arm Too Long for Bike                                   -2.197120e-01\n",
       "Saddle Too Far From Handle                              -5.646414e-02\n",
       "Torso Too Long for Bike                                 -3.668850e-01\n",
       "Saddle Too Far From Crank                                2.208643e-01\n",
       "Upper Leg Too Long for Bike                             -5.684242e-01\n",
       "Lower Leg Too Long for Bike                             -1.531106e-01\n",
       "Cosine Distance To Embedding                             3.997219e-01\n",
       "Mass (kg)                                                1.434326e+01\n",
       "Planar Compliance Score                                  9.962891e+00\n",
       "Transverse Compliance Score                              8.808648e+00\n",
       "Eccentric Compliance Score                               8.635697e+00\n",
       "Planar Safety Factor                                     1.230581e+00\n",
       "Eccentric Safety Factor                                  1.178544e+00\n",
       "Predicted Frame Validity                                 5.500000e-01\n",
       "Saddle Height Too Small                                 -9.743500e+01\n",
       "Saddle Collides With Seat Tube                           8.323999e+01\n",
       "Saddle Too Short                                         1.155000e+02\n",
       "Head Angle Over Limit                                   -9.510000e+01\n",
       "Seat Angle Over Limit                                   -8.770000e+01\n",
       "Seat Post Too Short                                      2.579770e+02\n",
       "Seat Post Too Long                                       7.927089e+01\n",
       "Rear Wheel Inner Diameter Too Small                      9.220000e+01\n",
       "Front Wheel Inner Diameter Too Small                     9.220000e+01\n",
       "Seat Tube Extension Longer Than Seat Tube               -5.100000e+01\n",
       "Head Tube Upper Extension And Lower Extension Overlap    8.507499e+01\n",
       "Seat Stay Junction Longer Than Seat Tube                -5.356500e+01\n",
       "Non-negative Parameter Is Negative                      -4.571084e+03\n",
       "Chain Stay Smaller Than Rear Wheel Radius                7.132500e+01\n",
       "Chain Stay Shorter Than BB Drop                         -1.967750e+02\n",
       "Seat Stay Smaller Than Rear Wheel Radius                 2.651603e+01\n",
       "Seat Tube Collides With Rear Wheel                       1.230864e+02\n",
       "Down Tube Can't Reach Head Tube                         -6.534191e+01\n",
       "Rear Wheel Cutout Severs Seat Tube                       4.999997e+07\n",
       "Foot Collides With Front Wheel                           6.036327e+04\n",
       "Crank Hits Ground In Lowest Position                     4.455000e+01\n",
       "RGB Value Greater Than 255                               3.825000e+01\n",
       "Chain Stays Intersect                                    4.074500e+01\n",
       "Tube Wall Thickness Exceeds Radius                       3.437951e+00\n",
       "Seat Tube Too Narrow For Seat Post                       3.242751e+01\n",
       "Down Tube Improperly Joins Head Tube                     6.230960e+01\n",
       "Top Tube Improperly Joins Head Tube                      3.551160e+01\n",
       "Top Tube Improperly Joins Seat Tube                      4.288616e+01\n",
       "Down Tube Collides With Front Wheel                      4.753699e+01\n",
       "Saddle Hits Top Tube                                     4.291829e-01\n",
       "Saddle Hits Head Tube                                    3.736556e-02\n",
       "dtype: float32"
      ]
     },
     "execution_count": 3,
     "metadata": {},
     "output_type": "execute_result"
    }
   ],
   "source": [
    "device = torch.device(\"cuda:0\" if torch.cuda.is_available() else \"cpu\")\n",
    "data = data_loading.load_bike_bench_train()\n",
    "evaluations_list = get_standard_evaluations(device, aesthetics_mode=\"Embedding\")\n",
    "evaluator, requirement_names, is_objective, is_conditional = construct_tensor_evaluator(evaluations_list, data.columns)\n",
    "\n",
    "path = resource_path(\"misc/ref_point.csv\")\n",
    "\n",
    "recompute_ref_point(evaluator, requirement_names, path, \"max\", device)"
   ]
  },
  {
   "cell_type": "code",
   "execution_count": null,
   "id": "f6771cbb",
   "metadata": {},
   "outputs": [],
   "source": []
  }
 ],
 "metadata": {
  "kernelspec": {
   "display_name": "bike-bench-cuda",
   "language": "python",
   "name": "python3"
  },
  "language_info": {
   "codemirror_mode": {
    "name": "ipython",
    "version": 3
   },
   "file_extension": ".py",
   "mimetype": "text/x-python",
   "name": "python",
   "nbconvert_exporter": "python",
   "pygments_lexer": "ipython3",
   "version": "3.10.18"
  }
 },
 "nbformat": 4,
 "nbformat_minor": 5
}
