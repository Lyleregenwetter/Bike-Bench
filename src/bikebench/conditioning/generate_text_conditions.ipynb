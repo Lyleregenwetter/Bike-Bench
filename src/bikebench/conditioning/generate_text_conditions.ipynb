{
 "cells": [
  {
   "cell_type": "markdown",
   "id": "7f181aff",
   "metadata": {},
   "source": [
    "Included for reproducibility of the conditional text data"
   ]
  },
  {
   "cell_type": "code",
   "execution_count": 1,
   "id": "3675e7b8",
   "metadata": {},
   "outputs": [],
   "source": [
    "from bikebench.resource_utils import datasets_path"
   ]
  },
  {
   "cell_type": "code",
   "execution_count": null,
   "id": "5a997c88",
   "metadata": {},
   "outputs": [],
   "source": [
    "import os, getpass\n",
    "os.environ[\"OPENAI_API_KEY\"] = os.getenv(\"OPENAI_API_KEY\") or getpass.getpass(\"OpenAI API key: \")\n",
    "MODEL_ID = \"gpt-5-mini\"  "
   ]
  },
  {
   "cell_type": "code",
   "execution_count": null,
   "id": "c4cbccc4",
   "metadata": {},
   "outputs": [],
   "source": [
    "import os\n",
    "import json\n",
    "import time\n",
    "import argparse\n",
    "from datetime import datetime\n",
    "from typing import List, Dict\n",
    "\n",
    "from openai import OpenAI\n",
    "\n",
    "MODEL_ID = os.getenv(\"MODEL_ID\", \"gpt-5-mini\") \n",
    "\n",
    "def build_mixed_prompt(n: int) -> str:\n",
    "    return (\n",
    "        f\"I am trying to train a conditional model to generate bikes based on text descriptions. \"\n",
    "        f\"I need a dataset of random text descriptions of bikes and I will train the bike using CLIP similarity. \"\n",
    "        f\"You can mention different types of bikes, visual descriptions such as color, aesthetics, component classes, etc. \"\n",
    "        f\"Can you create {n} such descriptions with very different styles. \"\n",
    "        f\"Some should sound as if they are being described by various bicycle enthusiasts describing high performance bikes or referencing specific hobbyist goals. \"\n",
    "        f\"Remember there are all sorts of cycling hobbies. \"\n",
    "        f\"Some might sound like bicycle designers, engineers, or framebuilders who will have a more objective, professional tone. \"\n",
    "        f\"Some should also sound like they are descriptions from casual users who may not have technical knowledge but may have a more simple or subjective way of describing a bike. \"\n",
    "        f\"However, you should avoid mentioning anything about the person describing the bike. We are just looking for the description of the bike itself.\"\n",
    "        f\"Please count them off so you make sure you get to {n}. \"\n",
    "        f\"And please make sure it is a description of a bike. Something in the description should make it clear that it's a bicycle.\"\n",
    "    )\n",
    "\n",
    "def build_format_instruction_strict(n: int) -> str:\n",
    "    return (\n",
    "        \"OUTPUT FORMAT ONLY (do not change content rules):\\n\"\n",
    "        f\"- Return EXACTLY {n} lines as a single numbered list.\\n\"\n",
    "        f\"- Number strictly from 1 to {n} using a period: '1. …', '2. …', '3. …'.\\n\"\n",
    "        \"- No other separators, no headings, no blank lines, no extra text.\\n\"\n",
    "        \"- Each line MUST contain only the description text after the number and period.\"\n",
    "    )\n",
    "\n",
    "import re, json\n",
    "from typing import List\n",
    "from openai import OpenAI\n",
    "\n",
    "MODEL_ID = \"gpt-5-mini\"  # change if needed\n",
    "\n",
    "_numline_re = re.compile(r\"^\\s*(\\d+)\\.\\s+(.+?)\\s*$\")\n",
    "\n",
    "def _split_numbered_lines_strict(text: str, n: int) -> List[str]:\n",
    "    nums, descs = [], []\n",
    "    for raw in text.splitlines():\n",
    "        m = _numline_re.match(raw)\n",
    "        if m:\n",
    "            nums.append(int(m.group(1)))\n",
    "            descs.append(m.group(2).strip())\n",
    "    if len(descs) != n or nums != list(range(1, n + 1)):\n",
    "        raise ValueError(\n",
    "            f\"Strict parse failed. Expected 1..{n}. \"\n",
    "            f\"Parsed {len(descs)} items; first numbers: {nums[:10]}\"\n",
    "        )\n",
    "    return descs\n",
    "\n",
    "def generate_batch_text_mixed(n: int = 500, model: str = MODEL_ID) -> List[str]:\n",
    "    client = OpenAI()\n",
    "    dev = build_format_instruction_strict(n)\n",
    "    user = build_mixed_prompt(n)\n",
    "\n",
    "    # First attempt\n",
    "    resp = client.responses.create(\n",
    "        model=model,\n",
    "        input=[\n",
    "            {\"role\": \"developer\", \"content\": dev},\n",
    "            {\"role\": \"user\", \"content\": user},\n",
    "        ],\n",
    "    )\n",
    "    try:\n",
    "        text = resp.output_text\n",
    "    except Exception:\n",
    "        text = resp.output[0].content[0].text\n",
    "\n",
    "    try:\n",
    "        items = _split_numbered_lines_strict(text, n)\n",
    "        return items\n",
    "    except ValueError:\n",
    "        resp2 = client.responses.create(\n",
    "            model=model,\n",
    "            input=[\n",
    "                {\"role\": \"developer\",\n",
    "                 \"content\": f\"Return EXACTLY {n} lines numbered '1. ...' through '{n}. ...'. No headings or blank lines.\"},\n",
    "                {\"role\": \"user\", \"content\": user},\n",
    "            ],\n",
    "        )\n",
    "        try:\n",
    "            text2 = resp2.output_text\n",
    "        except Exception:\n",
    "            text2 = resp2.output[0].content[0].text\n",
    "        items = _split_numbered_lines_strict(text2, n)\n",
    "        return items\n",
    "\n",
    "import os\n",
    "from datetime import datetime\n",
    "\n",
    "def save_txt_lines(lines: List[str], out_dir: str = \"out_bikes\", tag: str = \"\") -> str:\n",
    "    os.makedirs(out_dir, exist_ok=True)\n",
    "    ts = datetime.now().strftime(\"%Y%m%d_%H%M%S\")\n",
    "    path = os.path.join(out_dir, f\"bike_descriptions_{len(lines)}_{ts}{('_' + tag) if tag else ''}.txt\")\n",
    "    with open(path, \"w\", encoding=\"utf-8\") as f:\n",
    "        for line in lines:\n",
    "            f.write(line.replace(\"\\n\", \" \").strip() + \"\\n\")\n",
    "    return path\n",
    "\n",
    "def run_batches_txt(batches: int,\n",
    "                    n: int = 500,\n",
    "                    model: str = MODEL_ID,\n",
    "                    outfile: str = \"out_bikes/all.txt\",\n",
    "                    sleep_s: float = 0.0,\n",
    "                    truncate: bool = True):\n",
    "    os.makedirs(os.path.dirname(outfile) or \".\", exist_ok=True)\n",
    "    if truncate:\n",
    "        open(outfile, \"w\", encoding=\"utf-8\").close()\n",
    "\n",
    "    for i in range(batches):\n",
    "        print(f\"Batch {i+1}/{batches} → requesting {n} items...\")\n",
    "        lines = generate_batch_text_mixed(n=n, model=model)\n",
    "        with open(outfile, \"a\", encoding=\"utf-8\") as f:\n",
    "            for line in lines:\n",
    "                f.write(line.replace(\"\\n\", \" \").strip() + \"\\n\")\n",
    "        print(f\"Appended {len(lines)} lines → {outfile}\")\n",
    "        if i < batches - 1 and sleep_s > 0:\n",
    "            import time; time.sleep(sleep_s)\n"
   ]
  },
  {
   "cell_type": "code",
   "execution_count": 9,
   "id": "d5410faf",
   "metadata": {},
   "outputs": [
    {
     "name": "stderr",
     "output_type": "stream",
     "text": [
      "100%|██████████| 17/17 [55:39<00:00, 196.46s/it]\n"
     ]
    }
   ],
   "source": [
    "from tqdm import trange\n",
    "for i in trange(17):\n",
    "    lines = generate_batch_text_mixed(n=500, model=MODEL_ID)\n",
    "    txt_path = save_txt_lines(lines, out_dir=datasets_path(\"text\"), tag=\"n500_once\")"
   ]
  },
  {
   "cell_type": "code",
   "execution_count": 10,
   "id": "213dc90c",
   "metadata": {},
   "outputs": [],
   "source": [
    "#load all the files and combine them into one\n",
    "all_lines = []\n",
    "for fname in os.listdir(datasets_path(\"text\")):\n",
    "    if fname.endswith(\".txt\") and \"n500_once\" in fname:\n",
    "        with open(os.path.join(datasets_path(\"text\"), fname), \"r\", encoding=\"utf-8\") as f:\n",
    "            all_lines.extend([line.strip() for line in f if line.strip()])\n"
   ]
  },
  {
   "cell_type": "code",
   "execution_count": 11,
   "id": "da95e584",
   "metadata": {},
   "outputs": [
    {
     "data": {
      "text/plain": [
       "10000"
      ]
     },
     "execution_count": 11,
     "metadata": {},
     "output_type": "execute_result"
    }
   ],
   "source": [
    "len(all_lines)\n",
    "\n",
    "#split "
   ]
  },
  {
   "cell_type": "code",
   "execution_count": 12,
   "id": "d56f431b",
   "metadata": {},
   "outputs": [
    {
     "data": {
      "text/plain": [
       "Text(0, 0.5, 'Frequency')"
      ]
     },
     "execution_count": 12,
     "metadata": {},
     "output_type": "execute_result"
    },
    {
     "data": {
      "image/png": "[encoded data removed]",
      "text/plain": [
       "<Figure size 640x480 with 1 Axes>"
      ]
     },
     "metadata": {},
     "output_type": "display_data"
    }
   ],
   "source": [
    "#get histogram of line lengths\n",
    "import matplotlib.pyplot as plt\n",
    "lengths = [len(line) for line in all_lines]\n",
    "plt.hist(lengths, bins=30)\n",
    "plt.xlabel(\"Line Length\")\n",
    "plt.ylabel(\"Frequency\")"
   ]
  },
  {
   "cell_type": "code",
   "execution_count": null,
   "id": "567e2905",
   "metadata": {},
   "outputs": [],
   "source": [
    "#split into 9900 and 100\n",
    "\n",
    "from sklearn.model_selection import train_test_split\n",
    "train_lines, test_lines = train_test_split(all_lines, test_size=100, random_state=42)\n",
    "\n",
    "#save to Random_Text_Descriptions/ train and test.txt\n",
    "with open(datasets_path(\"Conditioning/text_train.txt\"), \"w\", encoding=\"utf-8\") as f:\n",
    "    for line in train_lines:\n",
    "        f.write(line + \"\\n\")\n",
    "with open(datasets_path(\"Conditioning/text_test.txt\"), \"w\", encoding=\"utf-8\") as f:\n",
    "    for line in test_lines:\n",
    "        f.write(line + \"\\n\")"
   ]
  },
  {
   "cell_type": "code",
   "execution_count": 18,
   "id": "004c2e46",
   "metadata": {},
   "outputs": [],
   "source": [
    "#load the train and test and feed through clip embeddings and save as np files\n",
    "\n",
    "import torch\n",
    "from bikebench.embedding.clip_embedding_calculator import ClipEmbeddingCalculator\n",
    "\n",
    "calc = ClipEmbeddingCalculator(device=\"cuda\" if torch.cuda.is_available() else \"cpu\")\n",
    "train_tens = calc.embed_texts(train_lines)\n",
    "test_tens = calc.embed_texts(test_lines)\n",
    "\n",
    "import numpy as np\n",
    "np.save(datasets_path(\"Conditioning/emb_train.npy\"), train_tens.detach().cpu().numpy())\n",
    "np.save(datasets_path(\"Conditioning/emb_test.npy\"), test_tens.detach().cpu().numpy())\n"
   ]
  },
  {
   "cell_type": "code",
   "execution_count": null,
   "id": "29179e89",
   "metadata": {},
   "outputs": [],
   "source": []
  }
 ],
 "metadata": {
  "kernelspec": {
   "display_name": "bike-bench-cuda",
   "language": "python",
   "name": "python3"
  },
  "language_info": {
   "codemirror_mode": {
    "name": "ipython",
    "version": 3
   },
   "file_extension": ".py",
   "mimetype": "text/x-python",
   "name": "python",
   "nbconvert_exporter": "python",
   "pygments_lexer": "ipython3",
   "version": "3.10.18"
  }
 },
 "nbformat": 4,
 "nbformat_minor": 5
}
