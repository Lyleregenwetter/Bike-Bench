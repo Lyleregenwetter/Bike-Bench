{
 "cells": [
  {
   "cell_type": "code",
   "execution_count": 1,
   "id": "4505aaf9",
   "metadata": {},
   "outputs": [
    {
     "name": "stderr",
     "output_type": "stream",
     "text": [
      "/home/mileva/mambaforge/envs/bike-bench-cuda/lib/python3.10/site-packages/tqdm/auto.py:21: TqdmWarning: IProgress not found. Please update jupyter and ipywidgets. See https://ipywidgets.readthedocs.io/en/stable/user_install.html\n",
      "  from .autonotebook import tqdm as notebook_tqdm\n"
     ]
    }
   ],
   "source": [
    "import pandas as pd\n",
    "import numpy as np \n",
    "import sys\n",
    "import torch\n",
    "\n",
    "from bikebench.benchmarking.public_benchmarking_utils import Benchmarker, get_unconditionally_valid_sample, get_conditionally_valid_sample, ScoreReportDashboard"
   ]
  },
  {
   "cell_type": "code",
   "execution_count": 2,
   "id": "5a5b4cad",
   "metadata": {},
   "outputs": [],
   "source": [
    "device = \"cpu\""
   ]
  },
  {
   "cell_type": "markdown",
   "id": "15d089ba",
   "metadata": {},
   "source": [
    "First, we set up an instance of the benchmarker. In this baseline, we do not call the evaluators so we can set masked_constraints and gradient_free to True"
   ]
  },
  {
   "cell_type": "code",
   "execution_count": 3,
   "id": "a0514b52",
   "metadata": {},
   "outputs": [],
   "source": [
    "bench = Benchmarker(device=device, masked_constraints=True, gradient_free=True)"
   ]
  },
  {
   "cell_type": "markdown",
   "id": "5a9728be",
   "metadata": {},
   "source": [
    "For this simple baseline, random sampling from the dataset is our \"model\". \n",
    "We sample a random set then we score the results. "
   ]
  },
  {
   "cell_type": "code",
   "execution_count": 4,
   "id": "730f34c9",
   "metadata": {},
   "outputs": [
    {
     "name": "stderr",
     "output_type": "stream",
     "text": [
      "  0%|          | 0/100 [00:00<?, ?it/s]"
     ]
    },
    {
     "name": "stderr",
     "output_type": "stream",
     "text": [
      "100%|██████████| 100/100 [00:08<00:00, 12.15it/s]\n"
     ]
    }
   ],
   "source": [
    "data_tens = bench.get_train_data()\n",
    "\n",
    "#Call the function to \"generate\" the data\n",
    "rendom_indices = torch.randint(0, data_tens.shape[0], (10000,))\n",
    "generated = data_tens[rendom_indices]\n",
    "\n",
    "main_scores, detailed_scores, all_evaluation_scores = bench.score(generated)\n",
    "bench.save_results(\"results/benchmark_results/baseline_dataset\")"
   ]
  },
  {
   "cell_type": "markdown",
   "id": "4415663b",
   "metadata": {},
   "source": [
    "We can see a variety of scores including quality, diversity, etc. We also seems some stats about the \"model.\" Since we did not perform any evaluation, our evaluator was called 0 times. The model is marked as \"conditional\" because we did not access the test set conditions (unconditional models, in contrast would train/fit using the test set conditions). Masked constraints is true, as we specified, and gradients-free is true, as we specified."
   ]
  },
  {
   "cell_type": "code",
   "execution_count": 5,
   "id": "49bd4fd4",
   "metadata": {},
   "outputs": [
    {
     "name": "stdout",
     "output_type": "stream",
     "text": [
      "Design Quality ↑ (HV)      0.003457\n",
      "Constraint Violation ↓       2.6988\n",
      "Sim. to Data ↓ (MMD)       0.005056\n",
      "Novelty ↑                  5.617839\n",
      "Binary Validity ↑            0.0202\n",
      "Diversity ↓ (DPP)         12.721894\n",
      "Evaluation Count                0.0\n",
      "Conditional?                   True\n",
      "Masked Constraints?            True\n",
      "Gradient Free?                 True\n",
      "dtype: object\n"
     ]
    }
   ],
   "source": [
    "print(main_scores)"
   ]
  }
 ],
 "metadata": {
  "kernelspec": {
   "display_name": "bike-bench-cuda",
   "language": "python",
   "name": "python3"
  },
  "language_info": {
   "codemirror_mode": {
    "name": "ipython",
    "version": 3
   },
   "file_extension": ".py",
   "mimetype": "text/x-python",
   "name": "python",
   "nbconvert_exporter": "python",
   "pygments_lexer": "ipython3",
   "version": "3.10.18"
  }
 },
 "nbformat": 4,
 "nbformat_minor": 5
}
